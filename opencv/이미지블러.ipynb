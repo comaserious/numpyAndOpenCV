{
 "cells": [
  {
   "cell_type": "code",
   "execution_count": 1,
   "metadata": {},
   "outputs": [],
   "source": [
    "import cv2"
   ]
  },
  {
   "cell_type": "code",
   "execution_count": 2,
   "metadata": {},
   "outputs": [],
   "source": [
    "src = cv2.imread('C:\\\\numpyandOpenCv\\opencv\\\\assets\\images\\go2.webp')"
   ]
  },
  {
   "cell_type": "code",
   "execution_count": 3,
   "metadata": {},
   "outputs": [],
   "source": [
    "src = cv2.GaussianBlur(src, (0,0) ,7) # 가우시안 블러를 사용하여 이미지 흐리게 처리"
   ]
  },
  {
   "cell_type": "code",
   "execution_count": 4,
   "metadata": {},
   "outputs": [],
   "source": [
    "cv2.imshow('blur' , src)"
   ]
  },
  {
   "cell_type": "code",
   "execution_count": 5,
   "metadata": {},
   "outputs": [],
   "source": [
    "cv2.waitKey()\n",
    "cv2.destroyAllWindows()"
   ]
  },
  {
   "cell_type": "markdown",
   "metadata": {},
   "source": [
    "GaussianBlur( 이미지 , 적용할 사이즈 , sigma 값 ) \n",
    "\n",
    "이미지는 블러를 적용할 이미지를 집어넣는다\n",
    "\n",
    "적용할 사이즈의 경우 (width , height) 인 튜블의 형태로 값을 집어넣는데\n",
    "(0,0) 의 경우 특별하게 이미지 크기를 자동으로 잡아준다\n",
    "\n",
    "sigma 값의 경우 가우시안 블러의 정도를 나타낸다.\n",
    "원래의 경우 sigmaX 와 sigmaY 로 구분하여 넣을 수도 있지만 대부분 같은 크기를 집어 넣기 때문에 한 값만 집어넣는다.\n",
    "\n",
    "sigma 의 경우 그 값이 커질수록 블러링 효과가 커진다."
   ]
  },
  {
   "cell_type": "code",
   "execution_count": null,
   "metadata": {},
   "outputs": [],
   "source": [
    "    "
   ]
  }
 ],
 "metadata": {
  "kernelspec": {
   "display_name": "Python 3",
   "language": "python",
   "name": "python3"
  },
  "language_info": {
   "codemirror_mode": {
    "name": "ipython",
    "version": 3
   },
   "file_extension": ".py",
   "mimetype": "text/x-python",
   "name": "python",
   "nbconvert_exporter": "python",
   "pygments_lexer": "ipython3",
   "version": "3.11.9"
  }
 },
 "nbformat": 4,
 "nbformat_minor": 2
}
