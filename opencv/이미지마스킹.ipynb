{
 "cells": [
  {
   "cell_type": "code",
   "execution_count": 1,
   "metadata": {},
   "outputs": [],
   "source": [
    "import cv2"
   ]
  },
  {
   "cell_type": "code",
   "execution_count": 2,
   "metadata": {},
   "outputs": [],
   "source": [
    "src = cv2.imread('C:\\\\numpyandOpenCv\\opencv\\\\assets\\images\\go1.jpg' , cv2.IMREAD_COLOR) # 원본 이미지 일기\n",
    "mask = cv2.imread('C:\\\\numpyandOpenCv\\opencv\\\\assets\\images\\go1.jpg' , cv2.IMREAD_GRAYSCALE) # 마스크 이미지 읽기(그레이스케일)\n",
    "dst = cv2.imread('C:\\\\numpyandOpenCv\\opencv\\\\assets\\images\\go1.jpg' , cv2.IMREAD_COLOR)"
   ]
  },
  {
   "cell_type": "code",
   "execution_count": 3,
   "metadata": {},
   "outputs": [
    {
     "data": {
      "text/plain": [
       "array([[[175, 189, 208],\n",
       "        [175, 189, 208],\n",
       "        [176, 190, 209],\n",
       "        ...,\n",
       "        [181, 193, 211],\n",
       "        [182, 194, 212],\n",
       "        [182, 194, 212]],\n",
       "\n",
       "       [[175, 189, 208],\n",
       "        [176, 190, 209],\n",
       "        [176, 190, 209],\n",
       "        ...,\n",
       "        [181, 193, 211],\n",
       "        [181, 193, 211],\n",
       "        [181, 193, 211]],\n",
       "\n",
       "       [[175, 189, 208],\n",
       "        [176, 190, 209],\n",
       "        [175, 189, 208],\n",
       "        ...,\n",
       "        [181, 193, 211],\n",
       "        [182, 194, 212],\n",
       "        [181, 193, 211]],\n",
       "\n",
       "       ...,\n",
       "\n",
       "       [[115, 133, 164],\n",
       "        [119, 137, 168],\n",
       "        [124, 143, 176],\n",
       "        ...,\n",
       "        [129, 153, 195],\n",
       "        [131, 155, 197],\n",
       "        [133, 157, 199]],\n",
       "\n",
       "       [[110, 127, 160],\n",
       "        [116, 133, 166],\n",
       "        [121, 140, 175],\n",
       "        ...,\n",
       "        [132, 156, 198],\n",
       "        [130, 154, 196],\n",
       "        [133, 158, 198]],\n",
       "\n",
       "       [[105, 122, 155],\n",
       "        [112, 129, 162],\n",
       "        [117, 136, 171],\n",
       "        ...,\n",
       "        [133, 157, 199],\n",
       "        [133, 158, 198],\n",
       "        [135, 160, 200]]], dtype=uint8)"
      ]
     },
     "execution_count": 3,
     "metadata": {},
     "output_type": "execute_result"
    }
   ],
   "source": [
    "cv2.copyTo(src, mask, dst)"
   ]
  },
  {
   "cell_type": "code",
   "execution_count": 7,
   "metadata": {},
   "outputs": [],
   "source": [
    "cv2.namedWindow('display')\n",
    "cv2.imshow('display', mask)"
   ]
  },
  {
   "cell_type": "code",
   "execution_count": 8,
   "metadata": {},
   "outputs": [],
   "source": [
    "cv2.waitKey()\n",
    "cv2.destroyAllWindows()"
   ]
  },
  {
   "cell_type": "code",
   "execution_count": null,
   "metadata": {},
   "outputs": [],
   "source": []
  }
 ],
 "metadata": {
  "kernelspec": {
   "display_name": "Python 3",
   "language": "python",
   "name": "python3"
  },
  "language_info": {
   "codemirror_mode": {
    "name": "ipython",
    "version": 3
   },
   "file_extension": ".py",
   "mimetype": "text/x-python",
   "name": "python",
   "nbconvert_exporter": "python",
   "pygments_lexer": "ipython3",
   "version": "3.11.9"
  }
 },
 "nbformat": 4,
 "nbformat_minor": 2
}
