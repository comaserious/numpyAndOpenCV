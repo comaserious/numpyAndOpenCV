{
  "nbformat": 4,
  "nbformat_minor": 0,
  "metadata": {
    "colab": {
      "provenance": [],
      "authorship_tag": "ABX9TyPiZxht+5t4vaizapBcznII",
      "include_colab_link": true
    },
    "kernelspec": {
      "name": "python3",
      "display_name": "Python 3"
    },
    "language_info": {
      "name": "python"
    }
  },
  "cells": [
    {
      "cell_type": "markdown",
      "metadata": {
        "id": "view-in-github",
        "colab_type": "text"
      },
      "source": [
        "<a href=\"https://colab.research.google.com/github/comaserious/numpyAndOpenCV/blob/main/numpy_%EA%B8%B0%EC%B4%88.ipynb\" target=\"_parent\"><img src=\"https://colab.research.google.com/assets/colab-badge.svg\" alt=\"Open In Colab\"/></a>"
      ]
    },
    {
      "cell_type": "code",
      "execution_count": 19,
      "metadata": {
        "id": "70XtWkgQ9_ei"
      },
      "outputs": [],
      "source": [
        "import numpy as np"
      ]
    },
    {
      "cell_type": "markdown",
      "source": [
        "# 배열의 생성"
      ],
      "metadata": {
        "id": "H3R0sa6iACmh"
      }
    },
    {
      "cell_type": "code",
      "source": [
        "# 리스트에서 행렬/배열 생성\n",
        "a=[[1,2,3], [4,5,6]]\n",
        "b= np.array(a)\n",
        "print(type(a))\n",
        "print(b)\n",
        "print(type(b))"
      ],
      "metadata": {
        "colab": {
          "base_uri": "https://localhost:8080/"
        },
        "id": "tNR_qjoN-Emm",
        "outputId": "64d6165f-c621-4121-a927-c7cf7733b416"
      },
      "execution_count": 20,
      "outputs": [
        {
          "output_type": "stream",
          "name": "stdout",
          "text": [
            "<class 'list'>\n",
            "[[1 2 3]\n",
            " [4 5 6]]\n",
            "<class 'numpy.ndarray'>\n"
          ]
        }
      ]
    },
    {
      "cell_type": "code",
      "source": [
        "print(b.ndim) # 배열의 열수(차원)"
      ],
      "metadata": {
        "colab": {
          "base_uri": "https://localhost:8080/"
        },
        "id": "8e16n-AF-RN2",
        "outputId": "0a33f109-1af5-4d23-9605-3d91e19b0114"
      },
      "execution_count": 3,
      "outputs": [
        {
          "output_type": "stream",
          "name": "stdout",
          "text": [
            "2\n"
          ]
        }
      ]
    },
    {
      "cell_type": "code",
      "source": [
        "print(b.shape) # 배열의 차원"
      ],
      "metadata": {
        "colab": {
          "base_uri": "https://localhost:8080/"
        },
        "id": "HuL9A5Rf-VkI",
        "outputId": "fb5786a0-9ad0-4d9f-9bf2-8e6842dbed3e"
      },
      "execution_count": 4,
      "outputs": [
        {
          "output_type": "stream",
          "name": "stdout",
          "text": [
            "(2, 3)\n"
          ]
        }
      ]
    },
    {
      "cell_type": "code",
      "source": [
        "print(b[0,0])"
      ],
      "metadata": {
        "colab": {
          "base_uri": "https://localhost:8080/"
        },
        "id": "LBmzWutI-hVP",
        "outputId": "b0696482-854e-436f-cc21-918a9b6820d6"
      },
      "execution_count": 5,
      "outputs": [
        {
          "output_type": "stream",
          "name": "stdout",
          "text": [
            "1\n"
          ]
        }
      ]
    },
    {
      "cell_type": "code",
      "source": [
        "#특수한 배열의 생성\n",
        "print(np.arange(10)) # 1 씩 증가하는 1차원 배열 (시작이 0)"
      ],
      "metadata": {
        "colab": {
          "base_uri": "https://localhost:8080/"
        },
        "id": "MEu9jHnt-kBA",
        "outputId": "1698629c-a1ad-4a47-e06e-da05fe456ce8"
      },
      "execution_count": 7,
      "outputs": [
        {
          "output_type": "stream",
          "name": "stdout",
          "text": [
            "[0 1 2 3 4 5 6 7 8 9]\n"
          ]
        }
      ]
    },
    {
      "cell_type": "code",
      "source": [
        "print(np.arange(5,10)) # 시작이 5  arange(start,end) range 와 동일하다"
      ],
      "metadata": {
        "colab": {
          "base_uri": "https://localhost:8080/"
        },
        "id": "d523-l-m-ucK",
        "outputId": "0a2ac526-13df-404f-f372-5ed2016729df"
      },
      "execution_count": 8,
      "outputs": [
        {
          "output_type": "stream",
          "name": "stdout",
          "text": [
            "[5 6 7 8 9]\n"
          ]
        }
      ]
    },
    {
      "cell_type": "code",
      "source": [
        "print(np.zeros((2,2))) # 영행렬 생성"
      ],
      "metadata": {
        "colab": {
          "base_uri": "https://localhost:8080/"
        },
        "id": "CaF3oIHQ-zzJ",
        "outputId": "b8d8c372-cba7-4a6e-d394-482fbcace2cf"
      },
      "execution_count": 9,
      "outputs": [
        {
          "output_type": "stream",
          "name": "stdout",
          "text": [
            "[[0. 0.]\n",
            " [0. 0.]]\n"
          ]
        }
      ]
    },
    {
      "cell_type": "code",
      "source": [
        "print(np.ones((2,3))) # 유닛행렬"
      ],
      "metadata": {
        "colab": {
          "base_uri": "https://localhost:8080/"
        },
        "id": "w5WW67Lc_EyB",
        "outputId": "a6033f00-39a5-4fcd-c812-b45b1d354c25"
      },
      "execution_count": 10,
      "outputs": [
        {
          "output_type": "stream",
          "name": "stdout",
          "text": [
            "[[1. 1. 1.]\n",
            " [1. 1. 1.]]\n"
          ]
        }
      ]
    },
    {
      "cell_type": "code",
      "source": [
        "print(np.full((2,3),5)) # 모든 원소가 5인 2x3 매트릭스"
      ],
      "metadata": {
        "colab": {
          "base_uri": "https://localhost:8080/"
        },
        "id": "z5JSKME3_Kkw",
        "outputId": "52bcde4c-b34b-4db0-8c8e-214e8e0c1308"
      },
      "execution_count": 11,
      "outputs": [
        {
          "output_type": "stream",
          "name": "stdout",
          "text": [
            "[[5 5 5]\n",
            " [5 5 5]]\n"
          ]
        }
      ]
    },
    {
      "cell_type": "code",
      "source": [
        "print(np.eye(3)) # 단위행렬"
      ],
      "metadata": {
        "colab": {
          "base_uri": "https://localhost:8080/"
        },
        "id": "DlqW942k_QOp",
        "outputId": "c576cd7b-1afb-45cd-b214-319e38494f74"
      },
      "execution_count": 12,
      "outputs": [
        {
          "output_type": "stream",
          "name": "stdout",
          "text": [
            "[[1. 0. 0.]\n",
            " [0. 1. 0.]\n",
            " [0. 0. 1.]]\n"
          ]
        }
      ]
    },
    {
      "cell_type": "code",
      "source": [
        "# 배열의 차원 변환\n",
        "\n",
        "a = np.arange(20)\n",
        "print(a)"
      ],
      "metadata": {
        "colab": {
          "base_uri": "https://localhost:8080/"
        },
        "id": "H7UdnAhS_YA4",
        "outputId": "00307d4d-01ac-4af1-bba5-048764f4e286"
      },
      "execution_count": 13,
      "outputs": [
        {
          "output_type": "stream",
          "name": "stdout",
          "text": [
            "[ 0  1  2  3  4  5  6  7  8  9 10 11 12 13 14 15 16 17 18 19]\n"
          ]
        }
      ]
    },
    {
      "cell_type": "code",
      "source": [
        "b= a.reshape((4,5))\n",
        "print(b)"
      ],
      "metadata": {
        "colab": {
          "base_uri": "https://localhost:8080/"
        },
        "id": "ux5ZGK_H_gBJ",
        "outputId": "f75ea2b5-0d43-4edf-d6da-b28989650089"
      },
      "execution_count": 15,
      "outputs": [
        {
          "output_type": "stream",
          "name": "stdout",
          "text": [
            "[[ 0  1  2  3  4]\n",
            " [ 5  6  7  8  9]\n",
            " [10 11 12 13 14]\n",
            " [15 16 17 18 19]]\n"
          ]
        }
      ]
    },
    {
      "cell_type": "code",
      "source": [
        "# 만약 요소의 수가 맞지 않으면 어떻게 될까?\n",
        "c= a.reshape((4,4))\n",
        "print(c)\n",
        "\n",
        "# size 가 20 이면 같은 사이즈여야 한다"
      ],
      "metadata": {
        "colab": {
          "base_uri": "https://localhost:8080/",
          "height": 182
        },
        "id": "kL4WdwDo_kv-",
        "outputId": "f62e3a31-f03e-4a2a-d6b3-4424ce5ded3e"
      },
      "execution_count": 17,
      "outputs": [
        {
          "output_type": "error",
          "ename": "ValueError",
          "evalue": "cannot reshape array of size 20 into shape (4,4)",
          "traceback": [
            "\u001b[0;31m---------------------------------------------------------------------------\u001b[0m",
            "\u001b[0;31mValueError\u001b[0m                                Traceback (most recent call last)",
            "\u001b[0;32m<ipython-input-17-e5d1359916bd>\u001b[0m in \u001b[0;36m<cell line: 2>\u001b[0;34m()\u001b[0m\n\u001b[1;32m      1\u001b[0m \u001b[0;31m# 만약 요소의 수가 맞지 않으면 어떻게 될까?\u001b[0m\u001b[0;34m\u001b[0m\u001b[0;34m\u001b[0m\u001b[0m\n\u001b[0;32m----> 2\u001b[0;31m \u001b[0mc\u001b[0m\u001b[0;34m=\u001b[0m \u001b[0ma\u001b[0m\u001b[0;34m.\u001b[0m\u001b[0mreshape\u001b[0m\u001b[0;34m(\u001b[0m\u001b[0;34m(\u001b[0m\u001b[0;36m4\u001b[0m\u001b[0;34m,\u001b[0m\u001b[0;36m4\u001b[0m\u001b[0;34m)\u001b[0m\u001b[0;34m)\u001b[0m\u001b[0;34m\u001b[0m\u001b[0;34m\u001b[0m\u001b[0m\n\u001b[0m\u001b[1;32m      3\u001b[0m \u001b[0mprint\u001b[0m\u001b[0;34m(\u001b[0m\u001b[0mc\u001b[0m\u001b[0;34m)\u001b[0m\u001b[0;34m\u001b[0m\u001b[0;34m\u001b[0m\u001b[0m\n",
            "\u001b[0;31mValueError\u001b[0m: cannot reshape array of size 20 into shape (4,4)"
          ]
        }
      ]
    },
    {
      "cell_type": "markdown",
      "source": [
        "# Numpy 슬라이싱 / 인덱싱"
      ],
      "metadata": {
        "id": "A9seZW5H_xyF"
      }
    },
    {
      "cell_type": "code",
      "source": [
        "lst = [\n",
        "    [1,2,3],\n",
        "    [4,5,6],\n",
        "    [7,8,9]\n",
        "]\n",
        "\n",
        "arr = np.array(lst)\n",
        "a= arr[0:2, 0:2] # 행 1~2 , 열 1~2 슬라이싱\n",
        "print(a)"
      ],
      "metadata": {
        "colab": {
          "base_uri": "https://localhost:8080/"
        },
        "id": "s5c07viI_-1D",
        "outputId": "aa16202f-1f34-48ae-f001-b8b0ddbe6f72"
      },
      "execution_count": 21,
      "outputs": [
        {
          "output_type": "stream",
          "name": "stdout",
          "text": [
            "[[1 2]\n",
            " [4 5]]\n"
          ]
        }
      ]
    },
    {
      "cell_type": "code",
      "source": [
        "a = arr[1:, 1:] # 행 2 부터 끝까지 열 2부터 끝까지\n",
        "print(a)"
      ],
      "metadata": {
        "colab": {
          "base_uri": "https://localhost:8080/"
        },
        "id": "9yeqveL4ApQc",
        "outputId": "ab06e8c6-ebed-4661-ace6-7f26fc9b45b3"
      },
      "execution_count": 22,
      "outputs": [
        {
          "output_type": "stream",
          "name": "stdout",
          "text": [
            "[[5 6]\n",
            " [8 9]]\n"
          ]
        }
      ]
    },
    {
      "cell_type": "markdown",
      "source": [
        "# 배열의 연산"
      ],
      "metadata": {
        "id": "GAwtihwiAyQa"
      }
    },
    {
      "cell_type": "code",
      "source": [
        "a= np.array([1,2,3])\n",
        "b= np.array([4,5,6])\n",
        "\n",
        "# 각 요소가 합\n",
        "c= a+b\n",
        "\n",
        "print(c)"
      ],
      "metadata": {
        "colab": {
          "base_uri": "https://localhost:8080/"
        },
        "id": "pGmktRxJA4d4",
        "outputId": "d1813571-28d2-4242-db71-ec4778bf7241"
      },
      "execution_count": 24,
      "outputs": [
        {
          "output_type": "stream",
          "name": "stdout",
          "text": [
            "[5 7 9]\n"
          ]
        }
      ]
    },
    {
      "cell_type": "code",
      "source": [
        "print(np.add(a,b))"
      ],
      "metadata": {
        "colab": {
          "base_uri": "https://localhost:8080/"
        },
        "id": "fYFPuCTTBCuB",
        "outputId": "d402c5cc-bcdb-4f5b-d793-9ae24ca53374"
      },
      "execution_count": 25,
      "outputs": [
        {
          "output_type": "stream",
          "name": "stdout",
          "text": [
            "[5 7 9]\n"
          ]
        }
      ]
    },
    {
      "cell_type": "code",
      "source": [
        "# 각 요소간 곱\n",
        "d = a*b\n",
        "print(d)"
      ],
      "metadata": {
        "colab": {
          "base_uri": "https://localhost:8080/"
        },
        "id": "WHunDYM4BMlH",
        "outputId": "7cb6f40f-a240-4b28-dfea-98ac8b0ae992"
      },
      "execution_count": 26,
      "outputs": [
        {
          "output_type": "stream",
          "name": "stdout",
          "text": [
            "[ 4 10 18]\n"
          ]
        }
      ]
    },
    {
      "cell_type": "code",
      "source": [
        "print(np.multiply(a,b))"
      ],
      "metadata": {
        "colab": {
          "base_uri": "https://localhost:8080/"
        },
        "id": "0lHEKctQBQ6n",
        "outputId": "e51f3cc3-72f0-48b0-defd-ca61c7c027c2"
      },
      "execution_count": 27,
      "outputs": [
        {
          "output_type": "stream",
          "name": "stdout",
          "text": [
            "[ 4 10 18]\n"
          ]
        }
      ]
    },
    {
      "cell_type": "code",
      "source": [
        "# 각 요소간 나누기\n",
        "e = b/a\n",
        "print(e)"
      ],
      "metadata": {
        "colab": {
          "base_uri": "https://localhost:8080/"
        },
        "id": "TUls-EtaBYAh",
        "outputId": "9a15e0f4-df16-48bf-cd56-6b57e5e90ec4"
      },
      "execution_count": 29,
      "outputs": [
        {
          "output_type": "stream",
          "name": "stdout",
          "text": [
            "[4.  2.5 2. ]\n"
          ]
        }
      ]
    },
    {
      "cell_type": "code",
      "source": [
        "print(np.divide(b,a))"
      ],
      "metadata": {
        "colab": {
          "base_uri": "https://localhost:8080/"
        },
        "id": "ic1ULjMRBb3E",
        "outputId": "ac58ef7d-0ca4-4f5b-bc04-903c6cc1cb16"
      },
      "execution_count": 30,
      "outputs": [
        {
          "output_type": "stream",
          "name": "stdout",
          "text": [
            "[4.  2.5 2. ]\n"
          ]
        }
      ]
    },
    {
      "cell_type": "code",
      "source": [
        "arr1 = [[1,2], [3,4]]\n",
        "arr2 = [[5,6], [7,8]]\n",
        "\n",
        "a = np.array(arr1)\n",
        "b = np.array(arr2)\n",
        "\n",
        "c = np.dot(a,b) # 내적 연산임을 확인할 수 있다\n",
        "print(c)"
      ],
      "metadata": {
        "colab": {
          "base_uri": "https://localhost:8080/"
        },
        "id": "LmTi1xUyBnEv",
        "outputId": "cad2032d-f8cb-4efe-a51b-9022bbf035fb"
      },
      "execution_count": 31,
      "outputs": [
        {
          "output_type": "stream",
          "name": "stdout",
          "text": [
            "[[19 22]\n",
            " [43 50]]\n"
          ]
        }
      ]
    },
    {
      "cell_type": "code",
      "source": [
        "# 모든 원소의 합\n",
        "\n",
        "a = np.array([[-1,2,3], [3,4,8]])\n",
        "\n",
        "s= np.sum(a)\n",
        "print(f\"sum = {s}\")\n",
        "print(a.sum())"
      ],
      "metadata": {
        "colab": {
          "base_uri": "https://localhost:8080/"
        },
        "id": "69YzMr6PB09c",
        "outputId": "bc797df3-24dd-4ccb-b316-3fac2e640acb"
      },
      "execution_count": 37,
      "outputs": [
        {
          "output_type": "stream",
          "name": "stdout",
          "text": [
            "sum = 19\n",
            "19\n"
          ]
        }
      ]
    },
    {
      "cell_type": "code",
      "source": [
        "print(f\"sum by row : {a.sum(axis=0)}\")"
      ],
      "metadata": {
        "colab": {
          "base_uri": "https://localhost:8080/"
        },
        "id": "c0wxlMAoB_Ky",
        "outputId": "2a2eea44-ef33-4858-f860-381cbe0bf10a"
      },
      "execution_count": 38,
      "outputs": [
        {
          "output_type": "stream",
          "name": "stdout",
          "text": [
            "sum by row : [ 2  6 11]\n"
          ]
        }
      ]
    },
    {
      "cell_type": "code",
      "source": [
        "print(f\"mean = {a.mean()}\")"
      ],
      "metadata": {
        "colab": {
          "base_uri": "https://localhost:8080/"
        },
        "id": "mGWUAFduClxT",
        "outputId": "09b79760-60ed-44cc-ad38-dd1e917aab34"
      },
      "execution_count": 39,
      "outputs": [
        {
          "output_type": "stream",
          "name": "stdout",
          "text": [
            "mean = 3.1666666666666665\n"
          ]
        }
      ]
    },
    {
      "cell_type": "code",
      "source": [
        "print(f\"sd ={ a.std()}\")"
      ],
      "metadata": {
        "colab": {
          "base_uri": "https://localhost:8080/"
        },
        "id": "LYSzYKTwCuZE",
        "outputId": "7a67c4ba-74ee-432f-b86b-1319cfb01849"
      },
      "execution_count": 41,
      "outputs": [
        {
          "output_type": "stream",
          "name": "stdout",
          "text": [
            "sd =2.6718699236469\n"
          ]
        }
      ]
    },
    {
      "cell_type": "code",
      "source": [
        "print(f\"product = {a.prod()}\")"
      ],
      "metadata": {
        "colab": {
          "base_uri": "https://localhost:8080/"
        },
        "id": "B3gkJTviC0p9",
        "outputId": "e7790507-78eb-4aef-c258-ff5ef471b91c"
      },
      "execution_count": 43,
      "outputs": [
        {
          "output_type": "stream",
          "name": "stdout",
          "text": [
            "product = -576\n"
          ]
        }
      ]
    },
    {
      "cell_type": "code",
      "source": [
        "# 벡터의 내적 연산\n",
        "x = np.array([1,2,3])\n",
        "\n",
        "print(x)"
      ],
      "metadata": {
        "colab": {
          "base_uri": "https://localhost:8080/"
        },
        "id": "XsrYeqA3C7YG",
        "outputId": "3cd02198-3f01-4d80-a6d0-5d63d23e3c9c"
      },
      "execution_count": 46,
      "outputs": [
        {
          "output_type": "stream",
          "name": "stdout",
          "text": [
            "[1 2 3]\n"
          ]
        }
      ]
    },
    {
      "cell_type": "code",
      "source": [
        "y = np.array([6,23,-1])\n",
        "print(y)"
      ],
      "metadata": {
        "colab": {
          "base_uri": "https://localhost:8080/"
        },
        "id": "1RzYdrL4EE1l",
        "outputId": "d5e3f861-774d-4994-ed17-f36f15d1ff5c"
      },
      "execution_count": 47,
      "outputs": [
        {
          "output_type": "stream",
          "name": "stdout",
          "text": [
            "[ 6 23 -1]\n"
          ]
        }
      ]
    },
    {
      "cell_type": "code",
      "source": [
        "print(x.dot(y.T))"
      ],
      "metadata": {
        "colab": {
          "base_uri": "https://localhost:8080/"
        },
        "id": "WlLN9XHoELUx",
        "outputId": "4bbc8cea-d040-43e6-d8c2-457a8907fda2"
      },
      "execution_count": 48,
      "outputs": [
        {
          "output_type": "stream",
          "name": "stdout",
          "text": [
            "49\n"
          ]
        }
      ]
    },
    {
      "cell_type": "code",
      "source": [
        "print(x.T.dot(y))"
      ],
      "metadata": {
        "colab": {
          "base_uri": "https://localhost:8080/"
        },
        "id": "Be2dn1nBESTh",
        "outputId": "f4346cf6-1e6b-4dae-af36-87d23f623606"
      },
      "execution_count": 49,
      "outputs": [
        {
          "output_type": "stream",
          "name": "stdout",
          "text": [
            "49\n"
          ]
        }
      ]
    },
    {
      "cell_type": "code",
      "source": [
        "x = np.array([[1,2,3],[4,5,6]])\n",
        "y= np.array([[6,23],[-1,7],[8,9]])\n",
        "\n",
        "print(x.dot(y))"
      ],
      "metadata": {
        "colab": {
          "base_uri": "https://localhost:8080/"
        },
        "id": "EyCV6Tk4EVSI",
        "outputId": "d9887e43-0797-4c1f-f456-046938e2ddac"
      },
      "execution_count": 50,
      "outputs": [
        {
          "output_type": "stream",
          "name": "stdout",
          "text": [
            "[[ 28  64]\n",
            " [ 67 181]]\n"
          ]
        }
      ]
    },
    {
      "cell_type": "code",
      "source": [
        "print(y.dot(x))"
      ],
      "metadata": {
        "colab": {
          "base_uri": "https://localhost:8080/"
        },
        "id": "Za9umY60EkeB",
        "outputId": "c6a6f4f0-5ed7-4a4e-ac7a-60b62b3354d2"
      },
      "execution_count": 51,
      "outputs": [
        {
          "output_type": "stream",
          "name": "stdout",
          "text": [
            "[[ 98 127 156]\n",
            " [ 27  33  39]\n",
            " [ 44  61  78]]\n"
          ]
        }
      ]
    },
    {
      "cell_type": "code",
      "source": [
        "# 역행렬\n",
        "\n",
        "from numpy.linalg import inv\n",
        "\n",
        "X = np.array([[1,2,3],[1,0,0],[0,0,1]])\n",
        "\n",
        "print(X)"
      ],
      "metadata": {
        "colab": {
          "base_uri": "https://localhost:8080/"
        },
        "id": "CXo_yxaTEr3r",
        "outputId": "9ab3843e-08ad-4321-dc1f-9a0720e56169"
      },
      "execution_count": 53,
      "outputs": [
        {
          "output_type": "stream",
          "name": "stdout",
          "text": [
            "[[1 2 3]\n",
            " [1 0 0]\n",
            " [0 0 1]]\n"
          ]
        }
      ]
    },
    {
      "cell_type": "code",
      "source": [
        "Y = inv(X)\n",
        "print(Y)"
      ],
      "metadata": {
        "colab": {
          "base_uri": "https://localhost:8080/"
        },
        "id": "s5SK1oo7EuPP",
        "outputId": "04423d53-7d48-4d2f-c04d-1ee193f6d72a"
      },
      "execution_count": 56,
      "outputs": [
        {
          "output_type": "stream",
          "name": "stdout",
          "text": [
            "[[ 0.   1.   0. ]\n",
            " [ 0.5 -0.5 -1.5]\n",
            " [ 0.   0.   1. ]]\n"
          ]
        }
      ]
    },
    {
      "cell_type": "code",
      "source": [
        "print(X.dot(Y)) # 결과값이 단위 행렬인것을 보아 Y 는 X 의 역행렬임을 알수 있다"
      ],
      "metadata": {
        "colab": {
          "base_uri": "https://localhost:8080/"
        },
        "id": "QgN8gWYuFBoB",
        "outputId": "9da05c0f-0518-4d20-c46b-7c9986b9a4d4"
      },
      "execution_count": 57,
      "outputs": [
        {
          "output_type": "stream",
          "name": "stdout",
          "text": [
            "[[1. 0. 0.]\n",
            " [0. 1. 0.]\n",
            " [0. 0. 1.]]\n"
          ]
        }
      ]
    },
    {
      "cell_type": "code",
      "source": [
        "print(X.T)"
      ],
      "metadata": {
        "colab": {
          "base_uri": "https://localhost:8080/"
        },
        "id": "GZ-07-zZFKjO",
        "outputId": "8930728b-c58a-473f-e2cd-0a90631348d8"
      },
      "execution_count": 58,
      "outputs": [
        {
          "output_type": "stream",
          "name": "stdout",
          "text": [
            "[[1 1 0]\n",
            " [2 0 0]\n",
            " [3 0 1]]\n"
          ]
        }
      ]
    },
    {
      "cell_type": "code",
      "source": [
        "print(X.dot(X.T))"
      ],
      "metadata": {
        "colab": {
          "base_uri": "https://localhost:8080/"
        },
        "id": "Qzr_GbYLFXvm",
        "outputId": "c1742645-512b-46a0-8d7c-0060cf8da4ba"
      },
      "execution_count": 59,
      "outputs": [
        {
          "output_type": "stream",
          "name": "stdout",
          "text": [
            "[[14  1  3]\n",
            " [ 1  1  0]\n",
            " [ 3  0  1]]\n"
          ]
        }
      ]
    },
    {
      "cell_type": "markdown",
      "source": [
        "# 난수의 생성"
      ],
      "metadata": {
        "id": "CXhkKIiHFf99"
      }
    },
    {
      "cell_type": "code",
      "source": [
        "# 균등 분포에서 난수 생성\n",
        "\n",
        "x = np.random.uniform(size=100)  # uniform 0~1 사이 값\n",
        "x.reshape(20,5)"
      ],
      "metadata": {
        "colab": {
          "base_uri": "https://localhost:8080/"
        },
        "id": "pgFFXHydFlhj",
        "outputId": "31fb25a2-d965-48e2-b36a-92d358c95d74"
      },
      "execution_count": 60,
      "outputs": [
        {
          "output_type": "execute_result",
          "data": {
            "text/plain": [
              "array([[0.58936597, 0.02862936, 0.07535211, 0.81728401, 0.99321067],\n",
              "       [0.62541755, 0.03887847, 0.62074777, 0.81463504, 0.79559152],\n",
              "       [0.47033816, 0.94487547, 0.06674883, 0.40732816, 0.4030141 ],\n",
              "       [0.83630019, 0.48151217, 0.91455487, 0.69907366, 0.08564782],\n",
              "       [0.39259406, 0.1926067 , 0.63216686, 0.03327002, 0.90911463],\n",
              "       [0.01337081, 0.09620275, 0.35413077, 0.67375011, 0.67287105],\n",
              "       [0.84538964, 0.58809875, 0.57703941, 0.63927394, 0.24079939],\n",
              "       [0.14651093, 0.51602474, 0.36551836, 0.05334676, 0.98779807],\n",
              "       [0.33890509, 0.70470101, 0.13979886, 0.94551007, 0.21582865],\n",
              "       [0.38383249, 0.61336187, 0.58103955, 0.35477231, 0.02072218],\n",
              "       [0.69269213, 0.29944768, 0.35014919, 0.71593578, 0.06445587],\n",
              "       [0.21190161, 0.3202139 , 0.147626  , 0.10785328, 0.99293329],\n",
              "       [0.66303616, 0.52233364, 0.72333122, 0.05561389, 0.10392673],\n",
              "       [0.12985362, 0.71269258, 0.19065614, 0.31211662, 0.1549523 ],\n",
              "       [0.22902622, 0.18138936, 0.92124996, 0.90886863, 0.65250256],\n",
              "       [0.51674997, 0.81892343, 0.95328212, 0.64475083, 0.93153086],\n",
              "       [0.01370577, 0.25255549, 0.34620046, 0.06259545, 0.93806245],\n",
              "       [0.4904189 , 0.16022163, 0.69161539, 0.78564576, 0.47761807],\n",
              "       [0.26283482, 0.70890947, 0.50429942, 0.65566823, 0.83416992],\n",
              "       [0.79104007, 0.95291707, 0.97725099, 0.94679257, 0.96419411]])"
            ]
          },
          "metadata": {},
          "execution_count": 60
        }
      ]
    },
    {
      "cell_type": "code",
      "source": [
        "# 정규 분포\n",
        "\n",
        "s = np.random.normal(0,1,10000)\n",
        "\n",
        "import matplotlib.pyplot as plt\n",
        "plt.hist(s) # 대략적인 정규분포의 모양을 확인 할 수 있다\n",
        "\n",
        "plt.show()"
      ],
      "metadata": {
        "colab": {
          "base_uri": "https://localhost:8080/",
          "height": 430
        },
        "id": "QyjH7G2FF1Dk",
        "outputId": "8d563b05-bc08-4d99-f24e-6d6e7918cf58"
      },
      "execution_count": 63,
      "outputs": [
        {
          "output_type": "display_data",
          "data": {
            "text/plain": [
              "<Figure size 640x480 with 1 Axes>"
            ],
            "image/png": "[encoded data removed]"
          },
          "metadata": {}
        }
      ]
    },
    {
      "cell_type": "markdown",
      "source": [
        " - seed() : 난수 발생기의 seed 를 지정한다\n",
        " - permutation() : 임의의 순열을 반환한다\n",
        " - shuffle() : 리스트나 배열의 순서를 뒤섞는다\n",
        " - rand() : 균등분포에서 표본을 추출한다\n",
        " - randint() : 주어진 최소/최대 범위 안에서 임의의 난수를 추철한다(정수로)\n",
        " - randn() : 표준편차 1, 평균이 0 인 정규분포에서 표본을 추출한다.\n",
        " - binomial() : 이항분포에서 표본을 추출\n",
        " - normal() : 정규분포(가우시안) 에서 표본을 추출\n",
        " - beta() : 베타분포에서 표본 추출\n",
        " - chisquare() : 카이제곱분포에서 표본 추출\n",
        " - gamma() : 감마분포에서 표본 추출\n",
        " - uniform()  : 균등 (0,1) 에서 표본을 추출"
      ],
      "metadata": {
        "id": "uFn0873WGF3c"
      }
    },
    {
      "cell_type": "code",
      "source": [
        "# normal() 과 randn() 차이\n",
        "\n",
        "arr = np.random.normal(loc = 2, scale = 3 , size=(2,2))\n",
        "\n",
        "print(arr)"
      ],
      "metadata": {
        "colab": {
          "base_uri": "https://localhost:8080/"
        },
        "id": "LuG0GchPLeBv",
        "outputId": "da47e693-2cb7-4607-8a00-4927562ec8bc"
      },
      "execution_count": 64,
      "outputs": [
        {
          "output_type": "stream",
          "name": "stdout",
          "text": [
            "[[ 5.20183294 -3.54024967]\n",
            " [-2.45665708  0.25548892]]\n"
          ]
        }
      ]
    },
    {
      "cell_type": "markdown",
      "source": [
        "randn 은 정규분포이면서 평균이 0 표준편차가 1 인 표준 편차이다\n",
        "반면에 normal() 은 사용자가 평균과 표준편차를 결정하여 만드는 정규분포이다.\n",
        "즉\n",
        "randn() 과 normal(0,1) 은 동일한 표본에서 추출하게 되는 것이다."
      ],
      "metadata": {
        "id": "ujJZiT9wLo0z"
      }
    }
  ]
}